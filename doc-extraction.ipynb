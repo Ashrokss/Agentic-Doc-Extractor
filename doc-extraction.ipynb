{
 "cells": [
  {
   "cell_type": "code",
   "execution_count": 15,
   "id": "4fb7a821",
   "metadata": {},
   "outputs": [
    {
     "data": {
      "text/plain": [
       "True"
      ]
     },
     "execution_count": 15,
     "metadata": {},
     "output_type": "execute_result"
    }
   ],
   "source": [
    "from agentic_doc.parse import parse\n",
    "from dotenv import load_dotenv\n",
    "load_dotenv()"
   ]
  },
  {
   "cell_type": "code",
   "execution_count": 4,
   "id": "8af670cf",
   "metadata": {},
   "outputs": [
    {
     "name": "stdout",
     "output_type": "stream",
     "text": [
      "2025-08-03 08:55:18 [info   ] API key is valid.              [agentic_doc.utils] (utils.py:42)\n",
      "2025-08-03 08:55:18 [info   ] Parsing 1 documents            [agentic_doc.parse] (parse.py:280)\n",
      "2025-08-03 08:55:18 [info   ] Splitting PDF: 'sample_pdfs\\SampleHealthReport.pdf' into 0 parts under 'C:\\Users\\admin\\AppData\\Local\\Temp\\tmpltkg83eh' [agentic_doc.utils] (utils.py:236)\n",
      "2025-08-03 08:55:18 [info   ] Created C:\\Users\\admin\\AppData\\Local\\Temp\\tmpltkg83eh\\SampleHealthReport_1.pdf [agentic_doc.utils"
     ]
    },
    {
     "name": "stderr",
     "output_type": "stream",
     "text": [
      "Parsing documents:   0%|          | 0/1 [00:00<?, ?it/s]"
     ]
    },
    {
     "name": "stdout",
     "output_type": "stream",
     "text": [
      "] (utils.py:252)\n",
      "2025-08-03 08:55:18 [info   ] "
     ]
    },
    {
     "name": "stderr",
     "output_type": "stream",
     "text": [
      "\n"
     ]
    },
    {
     "name": "stdout",
     "output_type": "stream",
     "text": [
      "Start parsing document part: 'File name: SampleHealthReport_1.pdf\tPage: [0:1]' [agentic_doc.parse] (parse.py:670)\n"
     ]
    },
    {
     "name": "stderr",
     "output_type": "stream",
     "text": [
      "Parsing document parts from 'SampleHealthReport.pdf':   0%|          | 0/1 [00:00<?, ?it/s]"
     ]
    },
    {
     "name": "stdout",
     "output_type": "stream",
     "text": [
      "HTTP Request: POST https://api.va.landing.ai/v1/tools/agentic-document-analysis \"HTTP/1.1 200 OK\" (_client.py:1025)\n",
      "2025-08-03 08:55:30 [info   ] Time taken to successfully parse a document chunk: 11.77 seconds [agentic_doc.parse] (parse.py:823)\n",
      "2025-08-03 08:55:30 [info   ] Successfully parsed document part: 'File name: SampleHealthReport_1.pdf\tPage: [0:1]' [agentic_doc.parse] (parse.py:679)\n"
     ]
    },
    {
     "name": "stderr",
     "output_type": "stream",
     "text": [
      "\n",
      "Parsing document parts from 'SampleHealthReport.pdf': 100%|██████████| 1/1 [00:11<00:00, 11.79s/it]\n",
      "Parsing documents: 100%|██████████| 1/1 [00:11<00:00, 11.83s/it]\n"
     ]
    },
    {
     "name": "stdout",
     "output_type": "stream",
     "text": [
      "[ParsedDocument(markdown='PATIENT CHART\\nHONOUR, EDWARD\\n123 S MAIN STREET CHICAGO IL  60611\\nO: (312) 555-1212(preferred)\\n\\nDOB: 8/15/1966  AGE: 58 yrs.  Acct#: 148 <!-- text, from page 0 (l=0.024,t=0.027,r=0.440,b=0.128), with ID d3990a1f-0945-45fa-a268-a68b1bf08e2f -->\\n\\nDEMOGRAPHICS\\n\\nNAME: HONOUR, EDWARD\\nPATIENT ID/#: 148\\nMRN:\\nBIRTH DATE: 8/15/1966\\nAGE: 58 yrs.\\nGENDER: M\\nADDRESS: 123 S MAIN STREET\\nCHICAGO IL  60611 <!-- text, from page 0 (l=0.024,t=0.153,r=0.297,b=0.286), with ID 0adfeb5e-4ae2-4c90-9cb0-aeaf58b92012 -->\\n\\nHome:\\nWork:\\nCell: (202) 555-1212\\nEMAIL: ED@EXAMPLE.COM\\nPROVIDER: SMITH, JOHN, MD\\nREFERRING PROVIDER: JOHN SMITH\\nSTE A\\n3196 E ELM STREET\\nCHICAGO IL  60611\\n(773) 555-1212 <!-- text, from page 0 (l=0.027,t=0.283,r=0.345,b=0.409), with ID b99efca3-1511-4842-8ee8-6c7fb0574280 -->\\n\\nALLERGIES\\n\\nNo data on file <!-- text, from page 0 (l=0.026,t=0.426,r=0.160,b=0.476), with ID eb75c885-7d10-44a1-9702-175a2860247f -->\\n\\n# MEDICATION DETAIL\\n\\nCurrent:\\nSIG: epinephrine 0.15 mg/0.3 mL injection auto-injector, 0 days, Dispense #2 Each, 0 Refills, Directions: administer 0.15mg subcutaneously as needed\\n8/8/2023 SMITH,JOHN,MD\\n----------------------------------------\\nCurrent:\\nSIG: lisinopril 20 mg oral tablet, 90 days, Dispense #90 Tablet, 0 Refills, Directions: Pt to take 1 tablet po a day\\n2/9/2024 SMITH,JOHN,MD\\n----------------------------------------\\nCurrent:\\nSIG: finasteride 1 mg oral tablet, 60 days, Dispense #60 Tablet, 0 Refills, Directions: Take 1 oral tablet once a day\\n3/22/2024 SMITH,JOHN,MD\\n----------------------------------------\\nCurrent:\\nSIG: celecoxib 200 mg oral capsule, 10 days, Dispense #20 Capsule, 0 Refills, Directions: 1 capsule twice a day\\n4/25/2024 DOE,JOHN F,DO\\n----------------------------------------\\nCurrent:\\nSIG: cephalexin 500 mg oral capsule, 2 days, Dispense #6 Capsule, 0 Refills, Directions: Take 1 capsule as directed prior to procedure\\n4/25/2024 DOE,JOHN F,DO\\n----------------------------------------\\nCurrent:\\nSIG: diazepam 5 mg oral tablet, 1 days, Dispense #3 Tablet, 0 Refills, Directions: Take 1 tablet as directed the day of procedure\\n4/25/2024 DOE,JOHN F,DO\\n----------------------------------------\\nCurrent:\\nSIG: ezetimibe 10 mg oral tablet, 180 days, Dispense #90 Tablet, 1 Refills, Directions: take 1 tablet daily\\n4/25/2024 DOE,JOHN F,DO\\n----------------------------------------\\nCurrent:\\nSIG: metformin 500 mg oral tablet, 90 days, Dispense #360 Tablet, 1 Refills, Directions: Take 1 tablet 4 times a day\\n4/25/2024 DOE,JOHN F,DO\\n---------------------------------------- <!-- text, from page 0 (l=0.023,t=0.494,r=0.991,b=0.956), with ID c1e73092-4fd2-4824-ab05-ba6b4d18032f -->\\n\\nCurrent: <!-- marginalia, from page 0 (l=0.028,t=0.949,r=0.104,b=0.968), with ID 1169bd49-3403-47e5-b3f0-84db55161c3c -->\\n\\nPrint Date 5/13/2025 <!-- marginalia, from page 0 (l=0.800,t=0.962,r=0.938,b=0.980), with ID ca1ce544-5fb1-4235-afc7-e7f95b43c129 -->\\n\\nPATIENT CHART\\n\\nHONOUR, EDWARD\\n123 S MAIN STREET CHICAGO IL  60611\\nO: (312) 555-1212(preferred)\\nDOB: 8/15/1966  AGE: 58 yrs.  Acct#: 148 <!-- text, from page 1 (l=0.030,t=0.029,r=0.442,b=0.112), with ID 51ade6ae-22cb-4f09-9c8d-99770f3815ba -->\\n\\nSIG: ezetimibe 10 mg oral tablet, 90 days, Dispense #90 Tablet, 1 Refills, Directions: Take 1 tablet daily\\n6/15/2024 SMITH,JOHN,MD\\n-----------------------------------------\\nCurrent:\\nSIG: minoxidil 2.5 mg oral tablet, 90 days, Dispense #90 Tablet, 1 Refills, Directions: Take 1 oral tablet once a day\\n6/21/2024 SMITH,JOHN,MD\\n-----------------------------------------\\nCurrent:\\nSIG: erythromycin 5 mg/gram (0.5 %) ophthalmic (eye) ointment, 7 days, Dispense #3.5 Gram, 0 Refills, Directions: apply 6 times per day to afested eye\\n3/3/2025 SMITH,JOHN,MD\\n-----------------------------------------\\nCurrent:\\nSIG: colchicine 0.6 mg oral tablet, 90 days, Dispense #90 Tablet, 2 Refills, Directions: Take 1 oral tablet once a day\\n3/10/2025 SMITH,JOHN,MD\\n-----------------------------------------\\nCurrent:\\nSIG: rosuvastatin 40 mg oral tablet, 90 days, Dispense #90 Tablet, 1 Refills, Directions: take one pill daily\\n5/5/2025 SMITH,JOHN,MD\\n-----------------------------------------\\nCurrent:\\nSIG: Repatha SureClick 140 mg/mL subcutaneous pen injector, 90 days, Dispense #6 Milliliter, 1 Refills, Directions: Inject 1ml subcutaneously every 2 weeks\\n5/7/2025 SMITH,JOHN,MD\\n-----------------------------------------\\nCurrent:\\nSIG: testosterone cypionate 200 mg/mL intramuscular oil, 90 days, Dispense #10 Milliliter, 0 Refills, Directions: Pt to administer 1.0 cc IM q 7 days\\n5/7/2025 SMITH,JOHN,MD <!-- text, from page 1 (l=0.025,t=0.136,r=0.982,b=0.511), with ID e2079595-b0ad-4933-9504-3053dd4da3ad -->\\n\\nPrint Date 5/13/2025 <!-- marginalia, from page 1 (l=0.799,t=0.961,r=0.937,b=0.980), with ID 3cff9631-96f2-40e0-8ed8-9b74e7a74f33 -->', chunks=[Chunk(text='PATIENT CHART\\nHONOUR, EDWARD\\n123 S MAIN STREET CHICAGO IL  60611\\nO: (312) 555-1212(preferred)\\n\\nDOB: 8/15/1966  AGE: 58 yrs.  Acct#: 148', grounding=[ChunkGrounding(page=0, box=ChunkGroundingBox(l=0.02447657287120819, t=0.02705305814743042, r=0.440010666847229, b=0.12754695117473602), image_path=None)], chunk_type=<ChunkType.text: 'text'>, chunk_id='d3990a1f-0945-45fa-a268-a68b1bf08e2f'), Chunk(text='DEMOGRAPHICS\\n\\nNAME: HONOUR, EDWARD\\nPATIENT ID/#: 148\\nMRN:\\nBIRTH DATE: 8/15/1966\\nAGE: 58 yrs.\\nGENDER: M\\nADDRESS: 123 S MAIN STREET\\nCHICAGO IL  60611', grounding=[ChunkGrounding(page=0, box=ChunkGroundingBox(l=0.02421244978904724, t=0.15327072143554688, r=0.29744404554367065, b=0.2858492434024811), image_path=None)], chunk_type=<ChunkType.text: 'text'>, chunk_id='0adfeb5e-4ae2-4c90-9cb0-aeaf58b92012'), Chunk(text='Home:\\nWork:\\nCell: (202) 555-1212\\nEMAIL: ED@EXAMPLE.COM\\nPROVIDER: SMITH, JOHN, MD\\nREFERRING PROVIDER: JOHN SMITH\\nSTE A\\n3196 E ELM STREET\\nCHICAGO IL  60611\\n(773) 555-1212', grounding=[ChunkGrounding(page=0, box=ChunkGroundingBox(l=0.027014538645744324, t=0.2831401526927948, r=0.3450184464454651, b=0.40920111536979675), image_path=None)], chunk_type=<ChunkType.text: 'text'>, chunk_id='b99efca3-1511-4842-8ee8-6c7fb0574280'), Chunk(text='ALLERGIES\\n\\nNo data on file', grounding=[ChunkGrounding(page=0, box=ChunkGroundingBox(l=0.025893650949001312, t=0.4264284670352936, r=0.16002026200294495, b=0.47608575224876404), image_path=None)], chunk_type=<ChunkType.text: 'text'>, chunk_id='eb75c885-7d10-44a1-9702-175a2860247f'), Chunk(text='# MEDICATION DETAIL\\n\\nCurrent:\\nSIG: epinephrine 0.15 mg/0.3 mL injection auto-injector, 0 days, Dispense #2 Each, 0 Refills, Directions: administer 0.15mg subcutaneously as needed\\n8/8/2023 SMITH,JOHN,MD\\n----------------------------------------\\nCurrent:\\nSIG: lisinopril 20 mg oral tablet, 90 days, Dispense #90 Tablet, 0 Refills, Directions: Pt to take 1 tablet po a day\\n2/9/2024 SMITH,JOHN,MD\\n----------------------------------------\\nCurrent:\\nSIG: finasteride 1 mg oral tablet, 60 days, Dispense #60 Tablet, 0 Refills, Directions: Take 1 oral tablet once a day\\n3/22/2024 SMITH,JOHN,MD\\n----------------------------------------\\nCurrent:\\nSIG: celecoxib 200 mg oral capsule, 10 days, Dispense #20 Capsule, 0 Refills, Directions: 1 capsule twice a day\\n4/25/2024 DOE,JOHN F,DO\\n----------------------------------------\\nCurrent:\\nSIG: cephalexin 500 mg oral capsule, 2 days, Dispense #6 Capsule, 0 Refills, Directions: Take 1 capsule as directed prior to procedure\\n4/25/2024 DOE,JOHN F,DO\\n----------------------------------------\\nCurrent:\\nSIG: diazepam 5 mg oral tablet, 1 days, Dispense #3 Tablet, 0 Refills, Directions: Take 1 tablet as directed the day of procedure\\n4/25/2024 DOE,JOHN F,DO\\n----------------------------------------\\nCurrent:\\nSIG: ezetimibe 10 mg oral tablet, 180 days, Dispense #90 Tablet, 1 Refills, Directions: take 1 tablet daily\\n4/25/2024 DOE,JOHN F,DO\\n----------------------------------------\\nCurrent:\\nSIG: metformin 500 mg oral tablet, 90 days, Dispense #360 Tablet, 1 Refills, Directions: Take 1 tablet 4 times a day\\n4/25/2024 DOE,JOHN F,DO\\n----------------------------------------', grounding=[ChunkGrounding(page=0, box=ChunkGroundingBox(l=0.022920697927474976, t=0.49390551447868347, r=0.9912426471710205, b=0.955773115158081), image_path=None)], chunk_type=<ChunkType.text: 'text'>, chunk_id='c1e73092-4fd2-4824-ab05-ba6b4d18032f'), Chunk(text='Current:', grounding=[ChunkGrounding(page=0, box=ChunkGroundingBox(l=0.028065301477909088, t=0.9492815732955933, r=0.10418587177991867, b=0.9681618213653564), image_path=None)], chunk_type=<ChunkType.marginalia: 'marginalia'>, chunk_id='1169bd49-3403-47e5-b3f0-84db55161c3c'), Chunk(text='Print Date 5/13/2025', grounding=[ChunkGrounding(page=0, box=ChunkGroundingBox(l=0.7999210357666016, t=0.9623263478279114, r=0.9378747940063477, b=0.9800774455070496), image_path=None)], chunk_type=<ChunkType.marginalia: 'marginalia'>, chunk_id='ca1ce544-5fb1-4235-afc7-e7f95b43c129'), Chunk(text='PATIENT CHART\\n\\nHONOUR, EDWARD\\n123 S MAIN STREET CHICAGO IL  60611\\nO: (312) 555-1212(preferred)\\nDOB: 8/15/1966  AGE: 58 yrs.  Acct#: 148', grounding=[ChunkGrounding(page=1, box=ChunkGroundingBox(l=0.03032037615776062, t=0.028863541781902313, r=0.4420548677444458, b=0.112040214240551), image_path=None)], chunk_type=<ChunkType.text: 'text'>, chunk_id='51ade6ae-22cb-4f09-9c8d-99770f3815ba'), Chunk(text='SIG: ezetimibe 10 mg oral tablet, 90 days, Dispense #90 Tablet, 1 Refills, Directions: Take 1 tablet daily\\n6/15/2024 SMITH,JOHN,MD\\n-----------------------------------------\\nCurrent:\\nSIG: minoxidil 2.5 mg oral tablet, 90 days, Dispense #90 Tablet, 1 Refills, Directions: Take 1 oral tablet once a day\\n6/21/2024 SMITH,JOHN,MD\\n-----------------------------------------\\nCurrent:\\nSIG: erythromycin 5 mg/gram (0.5 %) ophthalmic (eye) ointment, 7 days, Dispense #3.5 Gram, 0 Refills, Directions: apply 6 times per day to afested eye\\n3/3/2025 SMITH,JOHN,MD\\n-----------------------------------------\\nCurrent:\\nSIG: colchicine 0.6 mg oral tablet, 90 days, Dispense #90 Tablet, 2 Refills, Directions: Take 1 oral tablet once a day\\n3/10/2025 SMITH,JOHN,MD\\n-----------------------------------------\\nCurrent:\\nSIG: rosuvastatin 40 mg oral tablet, 90 days, Dispense #90 Tablet, 1 Refills, Directions: take one pill daily\\n5/5/2025 SMITH,JOHN,MD\\n-----------------------------------------\\nCurrent:\\nSIG: Repatha SureClick 140 mg/mL subcutaneous pen injector, 90 days, Dispense #6 Milliliter, 1 Refills, Directions: Inject 1ml subcutaneously every 2 weeks\\n5/7/2025 SMITH,JOHN,MD\\n-----------------------------------------\\nCurrent:\\nSIG: testosterone cypionate 200 mg/mL intramuscular oil, 90 days, Dispense #10 Milliliter, 0 Refills, Directions: Pt to administer 1.0 cc IM q 7 days\\n5/7/2025 SMITH,JOHN,MD', grounding=[ChunkGrounding(page=1, box=ChunkGroundingBox(l=0.024651825428009033, t=0.13648951053619385, r=0.9820210337638855, b=0.5112236142158508), image_path=None)], chunk_type=<ChunkType.text: 'text'>, chunk_id='e2079595-b0ad-4933-9504-3053dd4da3ad'), Chunk(text='Print Date 5/13/2025', grounding=[ChunkGrounding(page=1, box=ChunkGroundingBox(l=0.7990525960922241, t=0.9608380794525146, r=0.9374246597290039, b=0.9802327156066895), image_path=None)], chunk_type=<ChunkType.marginalia: 'marginalia'>, chunk_id='3cff9631-96f2-40e0-8ed8-9b74e7a74f33')], extraction=None, extraction_metadata=None, start_page_idx=0, end_page_idx=1, doc_type='pdf', result_path=None, errors=[], extraction_error=None)]\n"
     ]
    }
   ],
   "source": [
    "# Parse a local file\n",
    "# result = parse(r\"sample_pdfs\\SampleHealthReport.pdf\",\n",
    "#                result_save_dir=r\"output\")\n",
    "result = parse(r\"sample_pdfs\\SampleHealthReport.pdf\")\n",
    "\n",
    "print(result)"
   ]
  },
  {
   "cell_type": "code",
   "execution_count": 5,
   "id": "cc9977d3",
   "metadata": {},
   "outputs": [
    {
     "data": {
      "text/plain": [
       "list"
      ]
     },
     "execution_count": 5,
     "metadata": {},
     "output_type": "execute_result"
    }
   ],
   "source": [
    "type(result)"
   ]
  },
  {
   "cell_type": "code",
   "execution_count": 6,
   "id": "61a3252e",
   "metadata": {},
   "outputs": [
    {
     "name": "stdout",
     "output_type": "stream",
     "text": [
      "Extracted Markdown:\n",
      "PATIENT CHART\n",
      "HONOUR, EDWARD\n",
      "123 S MAIN STREET CHICAGO IL  60611\n",
      "O: (312) 555-1212(preferred)\n",
      "\n",
      "DOB: 8/15/1966  AGE: 58 yrs.  Acct#: 148 <!-- text, from page 0 (l=0.024,t=0.027,r=0.440,b=0.128), with ID d3990a1f-0945-45fa-a268-a68b1bf08e2f -->\n",
      "\n",
      "DEMOGRAPHICS\n",
      "\n",
      "NAME: HONOUR, EDWARD\n",
      "PATIENT ID/#: 148\n",
      "MRN:\n",
      "BIRTH DATE: 8/15/1966\n",
      "AGE: 58 yrs.\n",
      "GENDER: M\n",
      "ADDRESS: 123 S MAIN STREET\n",
      "CHICAGO IL  60611 <!-- text, from page 0 (l=0.024,t=0.153,r=0.297,b=0.286), with ID 0adfeb5e-4ae2-4c90-9cb0-aeaf58b92012 -->\n",
      "\n",
      "Home:\n",
      "Work:\n",
      "Cell: (202) 555-1212\n",
      "EMAIL: ED@EXAMPLE.COM\n",
      "PROVIDER: SMITH, JOHN, MD\n",
      "REFERRING PROVIDER: JOHN SMITH\n",
      "STE A\n",
      "3196 E ELM STREET\n",
      "CHICAGO IL  60611\n",
      "(773) 555-1212 <!-- text, from page 0 (l=0.027,t=0.283,r=0.345,b=0.409), with ID b99efca3-1511-4842-8ee8-6c7fb0574280 -->\n",
      "\n",
      "ALLERGIES\n",
      "\n",
      "No data on file <!-- text, from page 0 (l=0.026,t=0.426,r=0.160,b=0.476), with ID eb75c885-7d10-44a1-9702-175a2860247f -->\n",
      "\n",
      "# MEDICATION DETAIL\n",
      "\n",
      "Current:\n",
      "SIG: epinephrine 0.15 mg/0.3 mL injection auto-injector, 0 days, Dispense #2 Each, 0 Refills, Directions: administer 0.15mg subcutaneously as needed\n",
      "8/8/2023 SMITH,JOHN,MD\n",
      "----------------------------------------\n",
      "Current:\n",
      "SIG: lisinopril 20 mg oral tablet, 90 days, Dispense #90 Tablet, 0 Refills, Directions: Pt to take 1 tablet po a day\n",
      "2/9/2024 SMITH,JOHN,MD\n",
      "----------------------------------------\n",
      "Current:\n",
      "SIG: finasteride 1 mg oral tablet, 60 days, Dispense #60 Tablet, 0 Refills, Directions: Take 1 oral tablet once a day\n",
      "3/22/2024 SMITH,JOHN,MD\n",
      "----------------------------------------\n",
      "Current:\n",
      "SIG: celecoxib 200 mg oral capsule, 10 days, Dispense #20 Capsule, 0 Refills, Directions: 1 capsule twice a day\n",
      "4/25/2024 DOE,JOHN F,DO\n",
      "----------------------------------------\n",
      "Current:\n",
      "SIG: cephalexin 500 mg oral capsule, 2 days, Dispense #6 Capsule, 0 Refills, Directions: Take 1 capsule as directed prior to procedure\n",
      "4/25/2024 DOE,JOHN F,DO\n",
      "----------------------------------------\n",
      "Current:\n",
      "SIG: diazepam 5 mg oral tablet, 1 days, Dispense #3 Tablet, 0 Refills, Directions: Take 1 tablet as directed the day of procedure\n",
      "4/25/2024 DOE,JOHN F,DO\n",
      "----------------------------------------\n",
      "Current:\n",
      "SIG: ezetimibe 10 mg oral tablet, 180 days, Dispense #90 Tablet, 1 Refills, Directions: take 1 tablet daily\n",
      "4/25/2024 DOE,JOHN F,DO\n",
      "----------------------------------------\n",
      "Current:\n",
      "SIG: metformin 500 mg oral tablet, 90 days, Dispense #360 Tablet, 1 Refills, Directions: Take 1 tablet 4 times a day\n",
      "4/25/2024 DOE,JOHN F,DO\n",
      "---------------------------------------- <!-- text, from page 0 (l=0.023,t=0.494,r=0.991,b=0.956), with ID c1e73092-4fd2-4824-ab05-ba6b4d18032f -->\n",
      "\n",
      "Current: <!-- marginalia, from page 0 (l=0.028,t=0.949,r=0.104,b=0.968), with ID 1169bd49-3403-47e5-b3f0-84db55161c3c -->\n",
      "\n",
      "Print Date 5/13/2025 <!-- marginalia, from page 0 (l=0.800,t=0.962,r=0.938,b=0.980), with ID ca1ce544-5fb1-4235-afc7-e7f95b43c129 -->\n",
      "\n",
      "PATIENT CHART\n",
      "\n",
      "HONOUR, EDWARD\n",
      "123 S MAIN STREET CHICAGO IL  60611\n",
      "O: (312) 555-1212(preferred)\n",
      "DOB: 8/15/1966  AGE: 58 yrs.  Acct#: 148 <!-- text, from page 1 (l=0.030,t=0.029,r=0.442,b=0.112), with ID 51ade6ae-22cb-4f09-9c8d-99770f3815ba -->\n",
      "\n",
      "SIG: ezetimibe 10 mg oral tablet, 90 days, Dispense #90 Tablet, 1 Refills, Directions: Take 1 tablet daily\n",
      "6/15/2024 SMITH,JOHN,MD\n",
      "-----------------------------------------\n",
      "Current:\n",
      "SIG: minoxidil 2.5 mg oral tablet, 90 days, Dispense #90 Tablet, 1 Refills, Directions: Take 1 oral tablet once a day\n",
      "6/21/2024 SMITH,JOHN,MD\n",
      "-----------------------------------------\n",
      "Current:\n",
      "SIG: erythromycin 5 mg/gram (0.5 %) ophthalmic (eye) ointment, 7 days, Dispense #3.5 Gram, 0 Refills, Directions: apply 6 times per day to afested eye\n",
      "3/3/2025 SMITH,JOHN,MD\n",
      "-----------------------------------------\n",
      "Current:\n",
      "SIG: colchicine 0.6 mg oral tablet, 90 days, Dispense #90 Tablet, 2 Refills, Directions: Take 1 oral tablet once a day\n",
      "3/10/2025 SMITH,JOHN,MD\n",
      "-----------------------------------------\n",
      "Current:\n",
      "SIG: rosuvastatin 40 mg oral tablet, 90 days, Dispense #90 Tablet, 1 Refills, Directions: take one pill daily\n",
      "5/5/2025 SMITH,JOHN,MD\n",
      "-----------------------------------------\n",
      "Current:\n",
      "SIG: Repatha SureClick 140 mg/mL subcutaneous pen injector, 90 days, Dispense #6 Milliliter, 1 Refills, Directions: Inject 1ml subcutaneously every 2 weeks\n",
      "5/7/2025 SMITH,JOHN,MD\n",
      "-----------------------------------------\n",
      "Current:\n",
      "SIG: testosterone cypionate 200 mg/mL intramuscular oil, 90 days, Dispense #10 Milliliter, 0 Refills, Directions: Pt to administer 1.0 cc IM q 7 days\n",
      "5/7/2025 SMITH,JOHN,MD <!-- text, from page 1 (l=0.025,t=0.136,r=0.982,b=0.511), with ID e2079595-b0ad-4933-9504-3053dd4da3ad -->\n",
      "\n",
      "Print Date 5/13/2025 <!-- marginalia, from page 1 (l=0.799,t=0.961,r=0.937,b=0.980), with ID 3cff9631-96f2-40e0-8ed8-9b74e7a74f33 -->\n"
     ]
    }
   ],
   "source": [
    "print(\"Extracted Markdown:\")\n",
    "print(result[0].markdown)"
   ]
  },
  {
   "cell_type": "code",
   "execution_count": 7,
   "id": "d8376eed",
   "metadata": {},
   "outputs": [
    {
     "name": "stdout",
     "output_type": "stream",
     "text": [
      "Extracted Chunks:\n",
      "[Chunk(text='PATIENT CHART\\nHONOUR, EDWARD\\n123 S MAIN STREET CHICAGO IL  60611\\nO: (312) 555-1212(preferred)\\n\\nDOB: 8/15/1966  AGE: 58 yrs.  Acct#: 148', grounding=[ChunkGrounding(page=0, box=ChunkGroundingBox(l=0.02447657287120819, t=0.02705305814743042, r=0.440010666847229, b=0.12754695117473602), image_path=None)], chunk_type=<ChunkType.text: 'text'>, chunk_id='d3990a1f-0945-45fa-a268-a68b1bf08e2f'), Chunk(text='DEMOGRAPHICS\\n\\nNAME: HONOUR, EDWARD\\nPATIENT ID/#: 148\\nMRN:\\nBIRTH DATE: 8/15/1966\\nAGE: 58 yrs.\\nGENDER: M\\nADDRESS: 123 S MAIN STREET\\nCHICAGO IL  60611', grounding=[ChunkGrounding(page=0, box=ChunkGroundingBox(l=0.02421244978904724, t=0.15327072143554688, r=0.29744404554367065, b=0.2858492434024811), image_path=None)], chunk_type=<ChunkType.text: 'text'>, chunk_id='0adfeb5e-4ae2-4c90-9cb0-aeaf58b92012'), Chunk(text='Home:\\nWork:\\nCell: (202) 555-1212\\nEMAIL: ED@EXAMPLE.COM\\nPROVIDER: SMITH, JOHN, MD\\nREFERRING PROVIDER: JOHN SMITH\\nSTE A\\n3196 E ELM STREET\\nCHICAGO IL  60611\\n(773) 555-1212', grounding=[ChunkGrounding(page=0, box=ChunkGroundingBox(l=0.027014538645744324, t=0.2831401526927948, r=0.3450184464454651, b=0.40920111536979675), image_path=None)], chunk_type=<ChunkType.text: 'text'>, chunk_id='b99efca3-1511-4842-8ee8-6c7fb0574280'), Chunk(text='ALLERGIES\\n\\nNo data on file', grounding=[ChunkGrounding(page=0, box=ChunkGroundingBox(l=0.025893650949001312, t=0.4264284670352936, r=0.16002026200294495, b=0.47608575224876404), image_path=None)], chunk_type=<ChunkType.text: 'text'>, chunk_id='eb75c885-7d10-44a1-9702-175a2860247f'), Chunk(text='# MEDICATION DETAIL\\n\\nCurrent:\\nSIG: epinephrine 0.15 mg/0.3 mL injection auto-injector, 0 days, Dispense #2 Each, 0 Refills, Directions: administer 0.15mg subcutaneously as needed\\n8/8/2023 SMITH,JOHN,MD\\n----------------------------------------\\nCurrent:\\nSIG: lisinopril 20 mg oral tablet, 90 days, Dispense #90 Tablet, 0 Refills, Directions: Pt to take 1 tablet po a day\\n2/9/2024 SMITH,JOHN,MD\\n----------------------------------------\\nCurrent:\\nSIG: finasteride 1 mg oral tablet, 60 days, Dispense #60 Tablet, 0 Refills, Directions: Take 1 oral tablet once a day\\n3/22/2024 SMITH,JOHN,MD\\n----------------------------------------\\nCurrent:\\nSIG: celecoxib 200 mg oral capsule, 10 days, Dispense #20 Capsule, 0 Refills, Directions: 1 capsule twice a day\\n4/25/2024 DOE,JOHN F,DO\\n----------------------------------------\\nCurrent:\\nSIG: cephalexin 500 mg oral capsule, 2 days, Dispense #6 Capsule, 0 Refills, Directions: Take 1 capsule as directed prior to procedure\\n4/25/2024 DOE,JOHN F,DO\\n----------------------------------------\\nCurrent:\\nSIG: diazepam 5 mg oral tablet, 1 days, Dispense #3 Tablet, 0 Refills, Directions: Take 1 tablet as directed the day of procedure\\n4/25/2024 DOE,JOHN F,DO\\n----------------------------------------\\nCurrent:\\nSIG: ezetimibe 10 mg oral tablet, 180 days, Dispense #90 Tablet, 1 Refills, Directions: take 1 tablet daily\\n4/25/2024 DOE,JOHN F,DO\\n----------------------------------------\\nCurrent:\\nSIG: metformin 500 mg oral tablet, 90 days, Dispense #360 Tablet, 1 Refills, Directions: Take 1 tablet 4 times a day\\n4/25/2024 DOE,JOHN F,DO\\n----------------------------------------', grounding=[ChunkGrounding(page=0, box=ChunkGroundingBox(l=0.022920697927474976, t=0.49390551447868347, r=0.9912426471710205, b=0.955773115158081), image_path=None)], chunk_type=<ChunkType.text: 'text'>, chunk_id='c1e73092-4fd2-4824-ab05-ba6b4d18032f'), Chunk(text='Current:', grounding=[ChunkGrounding(page=0, box=ChunkGroundingBox(l=0.028065301477909088, t=0.9492815732955933, r=0.10418587177991867, b=0.9681618213653564), image_path=None)], chunk_type=<ChunkType.marginalia: 'marginalia'>, chunk_id='1169bd49-3403-47e5-b3f0-84db55161c3c'), Chunk(text='Print Date 5/13/2025', grounding=[ChunkGrounding(page=0, box=ChunkGroundingBox(l=0.7999210357666016, t=0.9623263478279114, r=0.9378747940063477, b=0.9800774455070496), image_path=None)], chunk_type=<ChunkType.marginalia: 'marginalia'>, chunk_id='ca1ce544-5fb1-4235-afc7-e7f95b43c129'), Chunk(text='PATIENT CHART\\n\\nHONOUR, EDWARD\\n123 S MAIN STREET CHICAGO IL  60611\\nO: (312) 555-1212(preferred)\\nDOB: 8/15/1966  AGE: 58 yrs.  Acct#: 148', grounding=[ChunkGrounding(page=1, box=ChunkGroundingBox(l=0.03032037615776062, t=0.028863541781902313, r=0.4420548677444458, b=0.112040214240551), image_path=None)], chunk_type=<ChunkType.text: 'text'>, chunk_id='51ade6ae-22cb-4f09-9c8d-99770f3815ba'), Chunk(text='SIG: ezetimibe 10 mg oral tablet, 90 days, Dispense #90 Tablet, 1 Refills, Directions: Take 1 tablet daily\\n6/15/2024 SMITH,JOHN,MD\\n-----------------------------------------\\nCurrent:\\nSIG: minoxidil 2.5 mg oral tablet, 90 days, Dispense #90 Tablet, 1 Refills, Directions: Take 1 oral tablet once a day\\n6/21/2024 SMITH,JOHN,MD\\n-----------------------------------------\\nCurrent:\\nSIG: erythromycin 5 mg/gram (0.5 %) ophthalmic (eye) ointment, 7 days, Dispense #3.5 Gram, 0 Refills, Directions: apply 6 times per day to afested eye\\n3/3/2025 SMITH,JOHN,MD\\n-----------------------------------------\\nCurrent:\\nSIG: colchicine 0.6 mg oral tablet, 90 days, Dispense #90 Tablet, 2 Refills, Directions: Take 1 oral tablet once a day\\n3/10/2025 SMITH,JOHN,MD\\n-----------------------------------------\\nCurrent:\\nSIG: rosuvastatin 40 mg oral tablet, 90 days, Dispense #90 Tablet, 1 Refills, Directions: take one pill daily\\n5/5/2025 SMITH,JOHN,MD\\n-----------------------------------------\\nCurrent:\\nSIG: Repatha SureClick 140 mg/mL subcutaneous pen injector, 90 days, Dispense #6 Milliliter, 1 Refills, Directions: Inject 1ml subcutaneously every 2 weeks\\n5/7/2025 SMITH,JOHN,MD\\n-----------------------------------------\\nCurrent:\\nSIG: testosterone cypionate 200 mg/mL intramuscular oil, 90 days, Dispense #10 Milliliter, 0 Refills, Directions: Pt to administer 1.0 cc IM q 7 days\\n5/7/2025 SMITH,JOHN,MD', grounding=[ChunkGrounding(page=1, box=ChunkGroundingBox(l=0.024651825428009033, t=0.13648951053619385, r=0.9820210337638855, b=0.5112236142158508), image_path=None)], chunk_type=<ChunkType.text: 'text'>, chunk_id='e2079595-b0ad-4933-9504-3053dd4da3ad'), Chunk(text='Print Date 5/13/2025', grounding=[ChunkGrounding(page=1, box=ChunkGroundingBox(l=0.7990525960922241, t=0.9608380794525146, r=0.9374246597290039, b=0.9802327156066895), image_path=None)], chunk_type=<ChunkType.marginalia: 'marginalia'>, chunk_id='3cff9631-96f2-40e0-8ed8-9b74e7a74f33')]\n"
     ]
    }
   ],
   "source": [
    "# Get the extracted data as structured chunks of content in a JSON schema\n",
    "print(\"Extracted Chunks:\")\n",
    "print(result[0].chunks)"
   ]
  },
  {
   "cell_type": "code",
   "execution_count": 8,
   "id": "5b48ace5",
   "metadata": {},
   "outputs": [
    {
     "name": "stdout",
     "output_type": "stream",
     "text": [
      "Allergies:\n",
      "No allergies on file\n"
     ]
    }
   ],
   "source": [
    "# Extract allergies\n",
    "def extract_allergies(chunks):\n",
    "    \"\"\"Extract allergy information from chunks\"\"\"\n",
    "    for chunk in chunks:\n",
    "        text = chunk.text\n",
    "        if 'ALLERGIES' in text:\n",
    "            lines = text.split('\\n')\n",
    "            for line in lines:\n",
    "                if 'No data on file' in line:\n",
    "                    return \"No allergies on file\"\n",
    "                elif line.strip() and not line.startswith('ALLERGIES'):\n",
    "                    return line.strip()\n",
    "    return \"No allergy information found\"\n",
    "\n",
    "# Extract allergies\n",
    "allergies = extract_allergies(result[0].chunks)\n",
    "print(\"Allergies:\")\n",
    "print(allergies)"
   ]
  },
  {
   "cell_type": "code",
   "execution_count": 9,
   "id": "5bac221c",
   "metadata": {},
   "outputs": [
    {
     "name": "stdout",
     "output_type": "stream",
     "text": [
      "Contact Information:\n",
      "Cell: (202) 555-1212\n",
      "Email: ED@EXAMPLE.COM\n",
      "Provider: JOHN SMITH\n"
     ]
    }
   ],
   "source": [
    "# Extract contact information\n",
    "def extract_contact_info(chunks):\n",
    "    \"\"\"Extract contact information from chunks\"\"\"\n",
    "    contact_info = {}\n",
    "    \n",
    "    for chunk in chunks:\n",
    "        text = chunk.text\n",
    "        lines = text.split('\\n')\n",
    "        \n",
    "        for line in lines:\n",
    "            if 'Cell:' in line:\n",
    "                contact_info['cell'] = line.split('Cell:')[1].strip()\n",
    "            elif 'EMAIL:' in line:\n",
    "                contact_info['email'] = line.split('EMAIL:')[1].strip()\n",
    "            elif 'PROVIDER:' in line:\n",
    "                contact_info['provider'] = line.split('PROVIDER:')[1].strip()\n",
    "            elif 'REFERRING PROVIDER:' in line:\n",
    "                contact_info['referring_provider'] = line.split('REFERRING PROVIDER:')[1].strip()\n",
    "    \n",
    "    return contact_info\n",
    "\n",
    "# Extract contact information\n",
    "contact_data = extract_contact_info(result[0].chunks)\n",
    "print(\"Contact Information:\")\n",
    "for key, value in contact_data.items():\n",
    "    print(f\"{key.replace('_', ' ').title()}: {value}\")"
   ]
  },
  {
   "cell_type": "code",
   "execution_count": 10,
   "id": "0c3f1d3b",
   "metadata": {},
   "outputs": [
    {
     "name": "stdout",
     "output_type": "stream",
     "text": [
      "Medications:\n",
      "1. epinephrine 0.15 mg/0.3 mL injection auto-injector - 0 days\n",
      "   Prescriber: 8/8/2023 SMITH,JOHN,MD\n",
      "\n",
      "2. lisinopril 20 mg oral tablet - 90 days\n",
      "   Prescriber: 2/9/2024 SMITH,JOHN,MD\n",
      "\n",
      "3. finasteride 1 mg oral tablet - 60 days\n",
      "   Prescriber: 3/22/2024 SMITH,JOHN,MD\n",
      "\n",
      "4. celecoxib 200 mg oral capsule - 10 days\n",
      "   Prescriber: 4/25/2024 DOE,JOHN F,DO\n",
      "\n",
      "5. cephalexin 500 mg oral capsule - 2 days\n",
      "   Prescriber: 4/25/2024 DOE,JOHN F,DO\n",
      "\n",
      "6. diazepam 5 mg oral tablet - 1 days\n",
      "   Prescriber: 4/25/2024 DOE,JOHN F,DO\n",
      "\n",
      "7. ezetimibe 10 mg oral tablet - 180 days\n",
      "   Prescriber: 4/25/2024 DOE,JOHN F,DO\n",
      "\n",
      "8. metformin 500 mg oral tablet - 90 days\n",
      "   Prescriber: 4/25/2024 DOE,JOHN F,DO\n",
      "\n",
      "9. ezetimibe 10 mg oral tablet - 90 days\n",
      "   Prescriber: 6/15/2024 SMITH,JOHN,MD\n",
      "\n",
      "10. minoxidil 2.5 mg oral tablet - 90 days\n",
      "   Prescriber: 6/21/2024 SMITH,JOHN,MD\n",
      "\n",
      "11. erythromycin 5 mg/gram (0.5 %) ophthalmic (eye) ointment - 7 days\n",
      "   Prescriber: 3/3/2025 SMITH,JOHN,MD\n",
      "\n",
      "12. colchicine 0.6 mg oral tablet - 90 days\n",
      "   Prescriber: 3/10/2025 SMITH,JOHN,MD\n",
      "\n",
      "13. rosuvastatin 40 mg oral tablet - 90 days\n",
      "   Prescriber: 5/5/2025 SMITH,JOHN,MD\n",
      "\n",
      "14. Repatha SureClick 140 mg/mL subcutaneous pen injector - 90 days\n",
      "   Prescriber: 5/7/2025 SMITH,JOHN,MD\n",
      "\n",
      "15. testosterone cypionate 200 mg/mL intramuscular oil - 90 days\n",
      "   Prescriber: 5/7/2025 SMITH,JOHN,MD\n",
      "\n"
     ]
    }
   ],
   "source": [
    "# Extract medications\n",
    "def extract_medications(chunks):\n",
    "    \"\"\"Extract medication information from chunks\"\"\"\n",
    "    medications = []\n",
    "    \n",
    "    for chunk in chunks:\n",
    "        text = chunk.text\n",
    "        if 'MEDICATION DETAIL' in text or 'SIG:' in text:\n",
    "            lines = text.split('\\n')\n",
    "            current_med = {}\n",
    "            \n",
    "            for line in lines:\n",
    "                if line.startswith('SIG:'):\n",
    "                    # Parse medication details\n",
    "                    sig_parts = line.split(',')\n",
    "                    if len(sig_parts) >= 2:\n",
    "                        med_name = sig_parts[0].replace('SIG:', '').strip()\n",
    "                        dosage = sig_parts[1].strip() if len(sig_parts) > 1 else ''\n",
    "                        current_med['medication'] = med_name\n",
    "                        current_med['dosage'] = dosage\n",
    "                elif line.strip().endswith('MD') or line.strip().endswith('DO'):\n",
    "                    # This is likely the prescriber and date\n",
    "                    current_med['prescriber'] = line.strip()\n",
    "                    if current_med:\n",
    "                        medications.append(current_med.copy())\n",
    "                        current_med = {}\n",
    "    \n",
    "    return medications\n",
    "\n",
    "# Extract medications\n",
    "medications = extract_medications(result[0].chunks)\n",
    "print(\"Medications:\")\n",
    "for i, med in enumerate(medications, 1):\n",
    "    print(f\"{i}. {med.get('medication', 'N/A')} - {med.get('dosage', 'N/A')}\")\n",
    "    print(f\"   Prescriber: {med.get('prescriber', 'N/A')}\")\n",
    "    print()"
   ]
  },
  {
   "cell_type": "code",
   "execution_count": null,
   "id": "831ad579",
   "metadata": {},
   "outputs": [
    {
     "name": "stdout",
     "output_type": "stream",
     "text": [
      "Patient Information:\n",
      "Name: HONOUR, EDWARD\n",
      "Patient Id: 148\n",
      "Birth Date: 8/15/1966\n",
      "Age: 58 yrs.\n",
      "Gender: M\n",
      "Address: 123 S MAIN STREET\n"
     ]
    }
   ],
   "source": [
    "# Extract specific patient information\n",
    "def extract_patient_info(chunks):\n",
    "    \"\"\"Extract patient demographic information from chunks\"\"\"\n",
    "    patient_info = {}\n",
    "    \n",
    "    for chunk in chunks:\n",
    "        text = chunk.text\n",
    "        if 'DEMOGRAPHICS' in text:\n",
    "            lines = text.split('\\n')\n",
    "            for line in lines:\n",
    "                if 'NAME:' in line:\n",
    "                    patient_info['name'] = line.split('NAME:')[1].strip()\n",
    "                elif 'PATIENT ID' in line:\n",
    "                    patient_info['patient_id'] = line.split('#:')[1].strip()\n",
    "                elif 'BIRTH DATE:' in line:\n",
    "                    patient_info['birth_date'] = line.split('BIRTH DATE:')[1].strip()\n",
    "                elif 'AGE:' in line:\n",
    "                    patient_info['age'] = line.split('AGE:')[1].strip()\n",
    "                elif 'GENDER:' in line:\n",
    "                    patient_info['gender'] = line.split('GENDER:')[1].strip()\n",
    "                elif 'ADDRESS:' in line:\n",
    "                    patient_info['address'] = line.split('ADDRESS:')[1].strip()\n",
    "    \n",
    "    return patient_info\n",
    "\n",
    "# Extract patient information\n",
    "patient_data = extract_patient_info(result[0].chunks)\n",
    "print(\"Patient Information:\")\n",
    "for key, value in patient_data.items():\n",
    "    print(f\"{key.replace('_', ' ').title()}: {value}\")"
   ]
  },
  {
   "cell_type": "code",
   "execution_count": 12,
   "id": "3017dd05",
   "metadata": {},
   "outputs": [
    {
     "name": "stdout",
     "output_type": "stream",
     "text": [
      "Structured data extracted and saved to 'output/extracted_data.json'\n",
      "\n",
      "Extracted Data Summary:\n",
      "{\n",
      "  \"patient_info\": {\n",
      "    \"name\": \"HONOUR, EDWARD\",\n",
      "    \"patient_id\": \"148\",\n",
      "    \"birth_date\": \"8/15/1966\",\n",
      "    \"age\": \"58 yrs.\",\n",
      "    \"gender\": \"M\",\n",
      "    \"address\": \"123 S MAIN STREET\"\n",
      "  },\n",
      "  \"contact_info\": {\n",
      "    \"cell\": \"(202) 555-1212\",\n",
      "    \"email\": \"ED@EXAMPLE.COM\",\n",
      "    \"provider\": \"JOHN SMITH\"\n",
      "  },\n",
      "  \"allergies\": \"No allergies on file\",\n",
      "  \"medications\": [\n",
      "    {\n",
      "      \"medication\": \"epinephrine 0.15 mg/0.3 mL injection auto-injector\",\n",
      "      \"dosage\": \"0 days\",\n",
      "      \"prescriber\": \"8/8/2023 SMITH,JOHN,MD\"\n",
      "    },\n",
      "    {\n",
      "      \"medication\": \"lisinopril 20 mg oral tablet\",\n",
      "      \"dosage\": \"90 days\",\n",
      "      \"prescriber\": \"2/9/2024 SMITH,JOHN,MD\"\n",
      "    },\n",
      "    {\n",
      "      \"medication\": \"finasteride 1 mg oral tablet\",\n",
      "      \"dosage\": \"60 days\",\n",
      "      \"prescriber\": \"3/22/2024 SMITH,JOHN,MD\"\n",
      "    },\n",
      "    {\n",
      "      \"medication\": \"celecoxib 200 mg oral capsule\",\n",
      "      \"dosage\": \"10 days\",\n",
      "      \"prescriber\": \"4/25/2024 DOE,JOHN F,DO\"\n",
      "    },\n",
      "    {\n",
      "      \"medication\": \"cephalexin 500 mg oral capsule\",\n",
      "      \"dosage\": \"2 days\",\n",
      "      \"prescriber\": \"4/25/2024 DOE,JOHN F,DO\"\n",
      "    },\n",
      "    {\n",
      "      \"medication\": \"diazepam 5 mg oral tablet\",\n",
      "      \"dosage\": \"1 days\",\n",
      "      \"prescriber\": \"4/25/2024 DOE,JOHN F,DO\"\n",
      "    },\n",
      "    {\n",
      "      \"medication\": \"ezetimibe 10 mg oral tablet\",\n",
      "      \"dosage\": \"180 days\",\n",
      "      \"prescriber\": \"4/25/2024 DOE,JOHN F,DO\"\n",
      "    },\n",
      "    {\n",
      "      \"medication\": \"metformin 500 mg oral tablet\",\n",
      "      \"dosage\": \"90 days\",\n",
      "      \"prescriber\": \"4/25/2024 DOE,JOHN F,DO\"\n",
      "    },\n",
      "    {\n",
      "      \"medication\": \"ezetimibe 10 mg oral tablet\",\n",
      "      \"dosage\": \"90 days\",\n",
      "      \"prescriber\": \"6/15/2024 SMITH,JOHN,MD\"\n",
      "    },\n",
      "    {\n",
      "      \"medication\": \"minoxidil 2.5 mg oral tablet\",\n",
      "      \"dosage\": \"90 days\",\n",
      "      \"prescriber\": \"6/21/2024 SMITH,JOHN,MD\"\n",
      "    },\n",
      "    {\n",
      "      \"medication\": \"erythromycin 5 mg/gram (0.5 %) ophthalmic (eye) ointment\",\n",
      "      \"dosage\": \"7 days\",\n",
      "      \"prescriber\": \"3/3/2025 SMITH,JOHN,MD\"\n",
      "    },\n",
      "    {\n",
      "      \"medication\": \"colchicine 0.6 mg oral tablet\",\n",
      "      \"dosage\": \"90 days\",\n",
      "      \"prescriber\": \"3/10/2025 SMITH,JOHN,MD\"\n",
      "    },\n",
      "    {\n",
      "      \"medication\": \"rosuvastatin 40 mg oral tablet\",\n",
      "      \"dosage\": \"90 days\",\n",
      "      \"prescriber\": \"5/5/2025 SMITH,JOHN,MD\"\n",
      "    },\n",
      "    {\n",
      "      \"medication\": \"Repatha SureClick 140 mg/mL subcutaneous pen injector\",\n",
      "      \"dosage\": \"90 days\",\n",
      "      \"prescriber\": \"5/7/2025 SMITH,JOHN,MD\"\n",
      "    },\n",
      "    {\n",
      "      \"medication\": \"testosterone cypionate 200 mg/mL intramuscular oil\",\n",
      "      \"dosage\": \"90 days\",\n",
      "      \"prescriber\": \"5/7/2025 SMITH,JOHN,MD\"\n",
      "    }\n",
      "  ]\n",
      "}\n"
     ]
    }
   ],
   "source": [
    "# Extract structured data as JSON\n",
    "import json\n",
    "\n",
    "def extract_structured_data(chunks):\n",
    "    \"\"\"Extract all data in a structured format\"\"\"\n",
    "    structured_data = {\n",
    "        'patient_info': extract_patient_info(chunks),\n",
    "        'contact_info': extract_contact_info(chunks),\n",
    "        'allergies': extract_allergies(chunks),\n",
    "        'medications': extract_medications(chunks)\n",
    "    }\n",
    "    return structured_data\n",
    "\n",
    "# Extract all structured data\n",
    "all_data = extract_structured_data(result[0].chunks)\n",
    "\n",
    "# Save to JSON file\n",
    "with open('output/extracted_data.json', 'w') as f:\n",
    "    json.dump(all_data, f, indent=2)\n",
    "\n",
    "print(\"Structured data extracted and saved to 'output/extracted_data.json'\")\n",
    "print(\"\\nExtracted Data Summary:\")\n",
    "print(json.dumps(all_data, indent=2))"
   ]
  },
  {
   "cell_type": "markdown",
   "id": "ee8461e4",
   "metadata": {},
   "source": [
    "# Testing on Sample Invoice \n"
   ]
  },
  {
   "cell_type": "code",
   "execution_count": 16,
   "id": "89411c5b",
   "metadata": {},
   "outputs": [
    {
     "name": "stdout",
     "output_type": "stream",
     "text": [
      "2025-08-03 15:03:54 [info   ] API key is valid.              [agentic_doc.utils] (utils.py:42)\n",
      "2025-08-03 15:03:54 [info   ] Parsing 1 documents            [agentic_doc.parse] (parse.py:280)\n"
     ]
    },
    {
     "name": "stderr",
     "output_type": "stream",
     "text": [
      "Parsing documents:   0%|          | 0/1 [00:00<?, ?it/s]"
     ]
    },
    {
     "name": "stdout",
     "output_type": "stream",
     "text": [
      "2025-08-03 15:03:54 [info   ] Splitting PDF: 'sample_pdfs\\sample-invoice.pdf' into 0 parts under 'C:\\Users\\admin\\AppData\\Local\\Temp\\tmp2kg_sb84' [agentic_doc.utils] (utils.py:236)\n",
      "2025-08-03 15:03:54 [info   ] Created C:\\Users\\admin\\AppData\\Local\\Temp\\tmp2kg_sb84\\sample-invoice_1.pdf [agentic_doc.utils] (utils.py:252)\n",
      "2025-08-03 15:03:54 [info   "
     ]
    },
    {
     "name": "stderr",
     "output_type": "stream",
     "text": [
      "\n"
     ]
    },
    {
     "name": "stdout",
     "output_type": "stream",
     "text": [
      "] Start parsing document part: 'File name: sample-invoice_1.pdf\tPage: [0:2]' [agentic_doc.parse]"
     ]
    },
    {
     "name": "stderr",
     "output_type": "stream",
     "text": [
      "Parsing document parts from 'sample-invoice.pdf':   0%|          | 0/1 [00:00<?, ?it/s]"
     ]
    },
    {
     "name": "stdout",
     "output_type": "stream",
     "text": [
      " (parse.py:670)\n",
      "HTTP Request: POST https://api.va.landing.ai/v1/tools/agentic-document-analysis \"HTTP/1.1 200 OK\" (_client.py:1025)\n",
      "2025-08-03 15:04:22 [info   ] Time taken to successfully parse a document chunk: 27.96 seconds [agentic_doc.parse] (parse.py:823)\n",
      "2025-08-03 15:04:22 [info   ] Successfully parsed document part: 'File name: sample-invoice_1.pdf\tPage: [0:2]' [agentic_doc.parse] (parse.py:679)\n"
     ]
    },
    {
     "name": "stderr",
     "output_type": "stream",
     "text": [
      "\n",
      "Parsing document parts from 'sample-invoice.pdf': 100%|██████████| 1/1 [00:28<00:00, 28.05s/it]\n",
      "Parsing documents: 100%|██████████| 1/1 [00:28<00:00, 28.19s/it]\n"
     ]
    },
    {
     "name": "stdout",
     "output_type": "stream",
     "text": [
      "CPB SOFTWARE (GERMANY) GMBH\n"
     ]
    }
   ],
   "source": [
    "from pydantic import BaseModel, Field\n",
    "from agentic_doc.parse import parse\n",
    "from typing import Optional\n",
    "from datetime import date\n",
    "\n",
    "# Define the fields you want to extract\n",
    "class InvoiceFields(BaseModel):\n",
    "    bill_to_name: str = Field(description=\"The full name of the person or entity being billed.\")\n",
    "    bill_to_address: str = Field(description=\"The address of the billed entity.\")\n",
    "    invoice_number: str = Field(description=\"The invoice number.\")\n",
    "    customer_number: str = Field(description=\"The customer number associated with the invoice.\")\n",
    "    invoice_date: date = Field(description=\"The date when the invoice was issued.\")\n",
    "    invoice_period_start: date = Field(description=\"Start date of the invoice billing period.\")\n",
    "    invoice_period_end: date = Field(description=\"End date of the invoice billing period.\")\n",
    "    gross_amount: float = Field(description=\"The total gross amount including VAT.\")\n",
    "    net_amount: float = Field(description=\"The total amount excluding VAT.\")\n",
    "    vat_amount: float = Field(description=\"The VAT amount charged.\")\n",
    "    iban: Optional[str] = Field(description=\"The IBAN number for payment.\", default=None)\n",
    "    bic: Optional[str] = Field(description=\"The BIC code for payment.\", default=None)\n",
    "    company_issuing_invoice: str = Field(description=\"The name of the company that issued the invoice.\")\n",
    "\n",
    "# Parse a file and extract the fields\n",
    "# results = parse(r\"sample_pdfs\\sample-invoice.pdf\", extraction_model=InvoiceFields,result_save_dir=r\"output\")\n",
    "results = parse(r\"sample_pdfs\\sample-invoice.pdf\", extraction_model=InvoiceFields)\n",
    "fields = results[0].extraction\n",
    "\n",
    "print(fields.company_issuing_invoice)"
   ]
  },
  {
   "cell_type": "code",
   "execution_count": 39,
   "id": "689f5cf2",
   "metadata": {},
   "outputs": [],
   "source": [
    "import json\n",
    "import ast\n",
    "extracted_data = results[0].extraction  # likely a Pydantic model like InvoiceFields\n",
    "\n",
    "# Convert to dict before serialization\n",
    "final_json = json.dumps(extracted_data.model_dump_json()) \n",
    "formatted_final_json = ast.literal_eval(final_json)\n",
    "\n",
    "parsed_json = json.loads(formatted_final_json)\n",
    "#Saving the extracted data to directory \n",
    "with open(r\"output\\extracted_invoice.json\", \"w\", encoding=\"utf-8\") as f:\n",
    "    json.dump(parsed_json, f, indent=4)\n"
   ]
  },
  {
   "cell_type": "code",
   "execution_count": null,
   "id": "709da0dd",
   "metadata": {},
   "outputs": [],
   "source": []
  }
 ],
 "metadata": {
  "kernelspec": {
   "display_name": ".venv",
   "language": "python",
   "name": "python3"
  },
  "language_info": {
   "codemirror_mode": {
    "name": "ipython",
    "version": 3
   },
   "file_extension": ".py",
   "mimetype": "text/x-python",
   "name": "python",
   "nbconvert_exporter": "python",
   "pygments_lexer": "ipython3",
   "version": "3.12.2"
  }
 },
 "nbformat": 4,
 "nbformat_minor": 5
}
